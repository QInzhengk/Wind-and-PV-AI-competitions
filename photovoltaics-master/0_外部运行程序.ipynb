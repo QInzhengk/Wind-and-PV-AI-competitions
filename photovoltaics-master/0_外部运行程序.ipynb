{
 "cells": [
  {
   "cell_type": "markdown",
   "metadata": {},
   "source": [
    "## 1.数据清洗和特征构造"
   ]
  },
  {
   "cell_type": "code",
   "execution_count": null,
   "metadata": {},
   "outputs": [],
   "source": [
    "Cp_list=[20,30,10,20,21,10,40,30,50,20]\n",
    "for i,Cp in enumerate(Cp_list):\n",
    "    num=i+1\n",
    "    %run 3_数据处理.py $num $Cp"
   ]
  },
  {
   "cell_type": "markdown",
   "metadata": {},
   "source": [
    "## 2.模型建立"
   ]
  },
  {
   "cell_type": "code",
   "execution_count": null,
   "metadata": {},
   "outputs": [],
   "source": [
    "Cp_list=[20,30,10,20,21,10,40,30,50,20]\n",
    "for i,Cp in enumerate(Cp_list):\n",
    "    num=i+2\n",
    "    %run 4_数据处理.py $num $Cp "
   ]
  },
  {
   "cell_type": "markdown",
   "metadata": {},
   "source": [
    "## 3.结果输出"
   ]
  },
  {
   "cell_type": "code",
   "execution_count": null,
   "metadata": {},
   "outputs": [],
   "source": [
    "file_path=\"\"\n",
    "import pandas as pd\n",
    "final_result=pd.DataFrame()\n",
    "for i in range(1,11):\n",
    "    temp=pd.read_csv(file_path+'predict/数据集_{}.csv'.format(i))\n",
    "    final_result=pd.concat([final_result,temp],axis=0)"
   ]
  },
  {
   "cell_type": "code",
   "execution_count": null,
   "metadata": {},
   "outputs": [],
   "source": [
    "final_result.to_csv(file_path+'predict/total.csv',encoding='utf-8',index=False)"
   ]
  }
 ],
 "metadata": {
  "kernelspec": {
   "display_name": "Python 3",
   "language": "python",
   "name": "python3"
  },
  "language_info": {
   "codemirror_mode": {
    "name": "ipython",
    "version": 3
   },
   "file_extension": ".py",
   "mimetype": "text/x-python",
   "name": "python",
   "nbconvert_exporter": "python",
   "pygments_lexer": "ipython3",
   "version": "3.7.4"
  }
 },
 "nbformat": 4,
 "nbformat_minor": 2
}
